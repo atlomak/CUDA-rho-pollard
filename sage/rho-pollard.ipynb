{
 "cells": [
  {
   "cell_type": "markdown",
   "metadata": {},
   "source": [
    "# Algorytm rho Pollarda"
   ]
  },
  {
   "cell_type": "markdown",
   "metadata": {},
   "source": [
    "## Przykładowe dane z \"Kryptografia w teorii i praktyce\""
   ]
  },
  {
   "cell_type": "code",
   "execution_count": 6,
   "metadata": {},
   "outputs": [
    {
     "name": "stdout",
     "output_type": "stream",
     "text": [
      "1 x = 618, a = 0, b = 1 | 2 x = 76, a = 0, b = 2\n",
      "2 x = 76, a = 0, b = 2 | 4 x = 113, a = 0, b = 4\n",
      "3 x = 46, a = 0, b = 3 | 6 x = 488, a = 1, b = 5\n",
      "4 x = 113, a = 0, b = 4 | 8 x = 605, a = 4, b = 10\n",
      "5 x = 349, a = 1, b = 4 | 10 x = 422, a = 5, b = 11\n",
      "6 x = 488, a = 1, b = 5 | 12 x = 683, a = 7, b = 11\n",
      "7 x = 555, a = 2, b = 5 | 14 x = 451, a = 8, b = 12\n",
      "8 x = 605, a = 4, b = 10 | 16 x = 344, a = 9, b = 13\n",
      "9 x = 451, a = 5, b = 10 | 18 x = 112, a = 11, b = 13\n",
      "10 x = 422, a = 5, b = 11 | 20 x = 422, a = 11, b = 15\n",
      "Znaleziona kolizja: x: 422\n"
     ]
    }
   ],
   "source": [
    "\n",
    "class Group_parameters:\n",
    "    def __init__(self, p, n, alpha, beta) -> None:\n",
    "        self.p = p\n",
    "        self.n = n\n",
    "        self.alpha = alpha\n",
    "        self.beta = beta\n",
    "\n",
    "class Triple:\n",
    "    def __init__(self, x, a, b) -> None:\n",
    "        self.x = x\n",
    "        self.a = a\n",
    "        self.b = b\n",
    "    def __str__(self) -> str:\n",
    "        return f\"x = {self.x}, a = {self.a}, b = {self.b}\"\n",
    "\n",
    "\n",
    "def f(tripe: Triple, group: Group_parameters) -> Triple:\n",
    "    if tripe.x % 3 == 1:\n",
    "        x = group.beta * tripe.x % group.p\n",
    "        a = tripe.a\n",
    "        b = tripe.b + 1\n",
    "        return Triple(x, a, b)\n",
    "    if tripe.x % 3 == 0:\n",
    "        x = tripe.x ** 2 % group.p\n",
    "        a = tripe.a * 2\n",
    "        b = tripe.b * 2\n",
    "        return Triple(x, a, b)\n",
    "    else:\n",
    "        x = group.alpha * tripe.x % group.p\n",
    "        a = tripe.a + 1\n",
    "        b = tripe.b\n",
    "        return Triple(x, a, b)\n",
    "\n",
    "g = Group_parameters(809, 101, 89, 618)\n",
    "\n",
    "t1 = f(Triple(1, 0, 0), g)\n",
    "t2 = f(t1, g)\n",
    "\n",
    "\n",
    "i = 1\n",
    "print('%s %s | %s %s' % (i, t1, 2*i, t2))\n",
    "\n",
    "i = 2\n",
    "while(t1.x != t2.x):\n",
    "    t1 = f(t1, g)\n",
    "    t2 = f(f(t2, g), g)\n",
    "    print('%s %s | %s %s' % (i, t1, 2*i, t2))\n",
    "    i=i+1\n",
    "\n",
    "print(f\"Znaleziona kolizja: x: {t1.x}\")\n",
    "\n"
   ]
  }
 ],
 "metadata": {
  "kernelspec": {
   "display_name": "SageMath 9.5",
   "language": "sage",
   "name": "sagemath"
  },
  "language_info": {
   "codemirror_mode": {
    "name": "ipython",
    "version": 3
   },
   "file_extension": ".py",
   "mimetype": "text/x-python",
   "name": "python",
   "nbconvert_exporter": "python",
   "pygments_lexer": "ipython3",
   "version": "3.10.12"
  }
 },
 "nbformat": 4,
 "nbformat_minor": 2
}
