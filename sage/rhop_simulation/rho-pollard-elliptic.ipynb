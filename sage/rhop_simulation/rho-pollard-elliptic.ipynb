{
 "cells": [
  {
   "cell_type": "markdown",
   "metadata": {},
   "source": [
    "### Algorytm rho Pollarda na grupie krzywej eliptycznej, na podstawie wersji dla grupy multiplikatywnej\n",
    "Zamiana na addytywną na podstawie izomorfizmu tych grup (f(xy) = f(x)+f(y))"
   ]
  },
  {
   "cell_type": "code",
   "execution_count": 20,
   "metadata": {},
   "outputs": [
    {
     "data": {
      "text/plain": [
       "(294126, 774213)"
      ]
     },
     "execution_count": 20,
     "metadata": {},
     "output_type": "execute_result"
    }
   ],
   "source": []
  },
  {
   "cell_type": "code",
   "execution_count": 3,
   "metadata": {},
   "outputs": [
    {
     "name": "stdout",
     "output_type": "stream",
     "text": [
      "(678355, 300679)\n"
     ]
    }
   ],
   "source": [
    "from sage.all import *\n",
    "\n",
    "def ell_add(E, P1, P2):\n",
    "    a, b, p = E\n",
    "    if P1 == \"inf\":\n",
    "        return P2\n",
    "    if P2 == \"inf\":\n",
    "        return P1\n",
    "    x1, y1 = P1\n",
    "    x2, y2 = P2\n",
    "\n",
    "    if x1 == x2 and y1 == (p - y2):\n",
    "        return \"inf\"\n",
    "\n",
    "    if P1 == P2:\n",
    "        if y1 == 0:\n",
    "            return \"inf\"\n",
    "        lam = ((3 * (x1 ** 2) + a) * inverse_mod(2 * y1, p)) % p\n",
    "    else:\n",
    "        lam = ((y2 - y1) * inverse_mod(x2 - x1, p)) % p\n",
    "\n",
    "    x3 = (lam ** 2 - x1 - x2) % p\n",
    "    y3 = (-lam * x3 - y1 + lam * x1) % p\n",
    "    return (x3, y3)\n",
    "\n",
    "# Example usage:\n",
    "a = 558806\n",
    "b = 694682\n",
    "p = 0xD3915\n",
    "p1 = (184224, 74658)\n",
    "p2 = (428817, 567437)\n",
    "\n",
    "# Doubling p2\n",
    "Q = ell_add((a, b, p), p2, p2)\n",
    "print(Q)\n"
   ]
  },
  {
   "cell_type": "markdown",
   "metadata": {},
   "source": [
    "### Due to Isomorphic\n",
    "\n",
    "f(xy) = f(x) + f(y)"
   ]
  },
  {
   "cell_type": "code",
   "execution_count": 7,
   "metadata": {
    "ExecuteTime": {
     "end_time": "2024-04-22T17:07:48.411256Z",
     "start_time": "2024-04-22T17:07:48.400938Z"
    }
   },
   "outputs": [],
   "source": [
    "class Group_parameters:\n",
    "    def __init__(self, p, P, Q) -> None:\n",
    "        self.p = p\n",
    "        self.P = P\n",
    "        self.Q = Q\n",
    "\n",
    "\n",
    "class Triple:\n",
    "    def __init__(self, X, a, b) -> None:\n",
    "        self.X = X  # Point at Elliptic Curve\n",
    "        self.a = a  # just a number\n",
    "        self.b = b  # just a number\n",
    "\n",
    "    def __str__(self) -> str:\n",
    "        return f\"x = {self.x}, a = {self.a}, b = {self.b}\"\n",
    "\n",
    "\n",
    "def f(tripe: Triple, group: Group_parameters) -> Triple:\n",
    "    #print(\"Function run\")\n",
    "    #print(f\"Input: {tripe}\")\n",
    "\n",
    "    x_of_xpoint = tripe.x[0]\n",
    "    y_of_xpoint = tripe.x[1]\n",
    "\n",
    "    p = group.p\n",
    "\n",
    "    if int(y_of_xpoint) % 3 == 1:\n",
    "        x = group.beta + tripe.x\n",
    "        a = tripe.a\n",
    "        b = tripe.b + 1\n",
    "        # check \n",
    "        if (x != a * g.alpha + b * g.beta):\n",
    "            pass\n",
    "            print(f\"1 xab: {x} {a} {b}\")\n",
    "        return Triple(x, a, b)\n",
    "    if int(y_of_xpoint) % 3 == 0:\n",
    "        x = 2 * tripe.x\n",
    "        a = (tripe.a * 2)\n",
    "        b = (tripe.b * 2)\n",
    "        if (x != a * g.alpha + b * g.beta):\n",
    "            pass\n",
    "            print(f\"2 xab: {x} {a} {b}\")\n",
    "        return Triple(x, a, b)\n",
    "    else:\n",
    "        x = group.alpha + tripe.x\n",
    "        a = tripe.a + 1\n",
    "        b = tripe.b\n",
    "        if (x != a * g.alpha + b * g.beta):\n",
    "            pass\n",
    "            print(f\"3 xab: {x} {a} {b}\")\n",
    "        return Triple(x, a, b)\n",
    "\n",
    "\n",
    "def main(g: Group_parameters, t1):\n",
    "    i = 1\n",
    "\n",
    "    t2 = f(t1, g)\n",
    "\n",
    "    print(\"%s %s | %s %s\" % (i, t1, 2 * i, t2))\n",
    "\n",
    "    i = 2\n",
    "    while t1.x != t2.x:\n",
    "        t1 = f(t1, g)\n",
    "        t2 = f(f(t2, g), g)\n",
    "        print(\"%s %s | %s %s\" % (i, t1, 2 * i, t2))\n",
    "        i = i + 1\n",
    "\n",
    "    print(f\"Found:\\nt1: {t1}\\nt2: {t2}\")\n",
    "\n",
    "    x = -((t2.a - t1.a) / (t1.b - t2.b))\n",
    "\n",
    "    print(x)"
   ]
  }
 ],
 "metadata": {
  "kernelspec": {
   "display_name": "SageMath 8.6",
   "language": "",
   "name": "sagemath"
  },
  "language_info": {
   "codemirror_mode": {
    "name": "ipython",
    "version": 3
   },
   "file_extension": ".py",
   "mimetype": "text/x-python",
   "name": "python",
   "nbconvert_exporter": "python",
   "pygments_lexer": "ipython3",
   "version": "3.11.1"
  }
 },
 "nbformat": 4,
 "nbformat_minor": 2
}
