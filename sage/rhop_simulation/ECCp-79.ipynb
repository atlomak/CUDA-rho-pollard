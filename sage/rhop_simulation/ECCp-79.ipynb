{
 "cells": [
  {
   "cell_type": "markdown",
   "metadata": {},
   "source": [
    "======= ECCp-79 =======\n",
    "p = 62CE 5177412A CA899CF5\n",
    "seedE = 3409C5C7 E50FF4D6 96E67687 56151755 2DF2B489\n",
    "r = 1CE4 AF36EED8 DE22B99D\n",
    "a = 39C9 5E6DDDB1 BC45733C\n",
    "b = 1F16 D880E89D 5A1C0ED1\n",
    "h = 01\n",
    "n = 62CE 5177407B 7258DC31\n",
    "seedP = 1FD36F3C 978D0398 EAB24D69 6E676875 61517593\n",
    "P_x = 315D 4B201C20 8475057D\n",
    "P_y = 035F 3DF5AB37 0252450A\n",
    "seedQ = 37A5B90A 4D696E67 68756151 75D52727 640CFCA6\n",
    "Q_x = 0679 834CEFB7 215DC365\n",
    "Q_y = 4084 BC50388C 4E6FDFAB"
   ]
  },
  {
   "cell_type": "code",
   "execution_count": 5,
   "metadata": {
    "vscode": {
     "languageId": "plaintext"
    }
   },
   "outputs": [
    {
     "data": {
      "text/plain": [
       "(233116918217145689900413 : 15924004798469701256458 : 1)"
      ]
     },
     "execution_count": 5,
     "metadata": {},
     "output_type": "execute_result"
    }
   ],
   "source": [
    "p = 0x62CE5177412ACA899CF5\n",
    "a = 0x39C95E6DDDB1BC45733C\n",
    "b = 0x1F16D880E89D5A1C0ED1\n",
    "\n",
    "n = 0x62CE5177407B7258DC31\n",
    "seedP = 0x1FD36F3C978D0398EAB24D696E67687561517593\n",
    "\n",
    "P_x = 0x315D4B201C208475057D\n",
    "P_y = 0x035F3DF5AB370252450A\n",
    "\n",
    "#seedQ = 37A5B90A 4D696E67 68756151 75D52727 640CFCA6\n",
    "\n",
    "#Q_x = 0679 834CEFB7 215DC365\n",
    "#Q_y = 4084 BC50388C 4E6FDFAB\n",
    "\n",
    "F = GF(p)\n",
    "\n",
    "E = EllipticCurve(F, [a,b])\n",
    "\n",
    "\n",
    "E.cardinality()\n",
    "\n",
    "E(P_x, P_y)"
   ]
  }
 ],
 "metadata": {
  "kernelspec": {
   "display_name": "SageMath 10.4.beta3",
   "language": "sage",
   "name": "sagemath"
  },
  "language_info": {
   "codemirror_mode": {
    "name": "ipython",
    "version": 3
   },
   "file_extension": ".py",
   "mimetype": "text/x-python",
   "name": "python",
   "nbconvert_exporter": "python",
   "pygments_lexer": "ipython3",
   "version": "3.11.1"
  }
 },
 "nbformat": 4,
 "nbformat_minor": 4
}
