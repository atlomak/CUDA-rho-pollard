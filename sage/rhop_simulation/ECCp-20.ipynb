{
 "cells": [
  {
   "cell_type": "code",
   "execution_count": 20,
   "metadata": {},
   "outputs": [
    {
     "ename": "ValueError",
     "evalue": "empty range for randrange() (1048576, 1048576, 0)",
     "output_type": "error",
     "traceback": [
      "\u001b[0;31m---------------------------------------------------------------------------\u001b[0m",
      "\u001b[0;31mValueError\u001b[0m                                Traceback (most recent call last)",
      "Cell \u001b[0;32mIn[20], line 16\u001b[0m\n\u001b[1;32m     13\u001b[0m         \u001b[38;5;28;01mreturn\u001b[39;00m generate_bit_prime(size)\n\u001b[1;32m     14\u001b[0m     \u001b[38;5;28;01mreturn\u001b[39;00m prime\n\u001b[0;32m---> 16\u001b[0m prime_20_bit: \u001b[38;5;28mint\u001b[39m \u001b[38;5;241m=\u001b[39m \u001b[43mgenerate_bit_prime\u001b[49m\u001b[43m(\u001b[49m\u001b[43mInteger\u001b[49m\u001b[43m(\u001b[49m\u001b[38;5;241;43m20\u001b[39;49m\u001b[43m)\u001b[49m\u001b[43m)\u001b[49m\n\u001b[1;32m     17\u001b[0m \u001b[38;5;28mhex\u001b[39m(prime_20_bit)\n",
      "Cell \u001b[0;32mIn[20], line 8\u001b[0m, in \u001b[0;36mgenerate_bit_prime\u001b[0;34m(size)\u001b[0m\n\u001b[1;32m      5\u001b[0m min_val \u001b[38;5;241m=\u001b[39m Integer(\u001b[38;5;241m2\u001b[39m)\u001b[38;5;241m*\u001b[39m\u001b[38;5;241m*\u001b[39msize\n\u001b[1;32m      6\u001b[0m max_val \u001b[38;5;241m=\u001b[39m Integer(\u001b[38;5;241m2\u001b[39m)\u001b[38;5;241m*\u001b[39m\u001b[38;5;241m*\u001b[39msize \u001b[38;5;241m-\u001b[39m Integer(\u001b[38;5;241m1\u001b[39m)\n\u001b[0;32m----> 8\u001b[0m start \u001b[38;5;241m=\u001b[39m \u001b[43mrandom\u001b[49m\u001b[38;5;241;43m.\u001b[39;49m\u001b[43mrandint\u001b[49m\u001b[43m(\u001b[49m\u001b[43mmin_val\u001b[49m\u001b[43m,\u001b[49m\u001b[43m \u001b[49m\u001b[43mmax_val\u001b[49m\u001b[43m)\u001b[49m\n\u001b[1;32m     10\u001b[0m prime \u001b[38;5;241m=\u001b[39m nextprime(start)\n\u001b[1;32m     12\u001b[0m \u001b[38;5;28;01mif\u001b[39;00m prime \u001b[38;5;241m>\u001b[39m max_val:\n",
      "File \u001b[0;32m~/sage/sage/local/var/lib/sage/venv-python3.11.1/lib/python3.11/random.py:362\u001b[0m, in \u001b[0;36mRandom.randint\u001b[0;34m(self, a, b)\u001b[0m\n\u001b[1;32m    358\u001b[0m \u001b[38;5;28;01mdef\u001b[39;00m \u001b[38;5;21mrandint\u001b[39m(\u001b[38;5;28mself\u001b[39m, a, b):\n\u001b[1;32m    359\u001b[0m \u001b[38;5;250m    \u001b[39m\u001b[38;5;124;03m\"\"\"Return random integer in range [a, b], including both end points.\u001b[39;00m\n\u001b[1;32m    360\u001b[0m \u001b[38;5;124;03m    \"\"\"\u001b[39;00m\n\u001b[0;32m--> 362\u001b[0m     \u001b[38;5;28;01mreturn\u001b[39;00m \u001b[38;5;28;43mself\u001b[39;49m\u001b[38;5;241;43m.\u001b[39;49m\u001b[43mrandrange\u001b[49m\u001b[43m(\u001b[49m\u001b[43ma\u001b[49m\u001b[43m,\u001b[49m\u001b[43m \u001b[49m\u001b[43mb\u001b[49m\u001b[38;5;241;43m+\u001b[39;49m\u001b[38;5;241;43m1\u001b[39;49m\u001b[43m)\u001b[49m\n",
      "File \u001b[0;32m~/sage/sage/local/var/lib/sage/venv-python3.11.1/lib/python3.11/random.py:345\u001b[0m, in \u001b[0;36mRandom.randrange\u001b[0;34m(self, start, stop, step)\u001b[0m\n\u001b[1;32m    343\u001b[0m     \u001b[38;5;28;01mif\u001b[39;00m width \u001b[38;5;241m>\u001b[39m \u001b[38;5;241m0\u001b[39m:\n\u001b[1;32m    344\u001b[0m         \u001b[38;5;28;01mreturn\u001b[39;00m istart \u001b[38;5;241m+\u001b[39m \u001b[38;5;28mself\u001b[39m\u001b[38;5;241m.\u001b[39m_randbelow(width)\n\u001b[0;32m--> 345\u001b[0m     \u001b[38;5;28;01mraise\u001b[39;00m \u001b[38;5;167;01mValueError\u001b[39;00m(\u001b[38;5;124m\"\u001b[39m\u001b[38;5;124mempty range for randrange() (\u001b[39m\u001b[38;5;132;01m%d\u001b[39;00m\u001b[38;5;124m, \u001b[39m\u001b[38;5;132;01m%d\u001b[39;00m\u001b[38;5;124m, \u001b[39m\u001b[38;5;132;01m%d\u001b[39;00m\u001b[38;5;124m)\u001b[39m\u001b[38;5;124m\"\u001b[39m \u001b[38;5;241m%\u001b[39m (istart, istop, width))\n\u001b[1;32m    347\u001b[0m \u001b[38;5;66;03m# Non-unit step argument supplied.\u001b[39;00m\n\u001b[1;32m    348\u001b[0m \u001b[38;5;28;01mif\u001b[39;00m istep \u001b[38;5;241m>\u001b[39m \u001b[38;5;241m0\u001b[39m:\n",
      "\u001b[0;31mValueError\u001b[0m: empty range for randrange() (1048576, 1048576, 0)"
     ]
    }
   ],
   "source": [
    "from sympy import nextprime\n",
    "import random\n",
    "\n",
    "def generate_bit_prime(size):\n",
    "    min_val = 2**size\n",
    "    max_val = 2**size - 1\n",
    "    \n",
    "    start = random.randint(min_val, max_val)\n",
    "    \n",
    "    prime = nextprime(start)\n",
    "    \n",
    "    if prime > max_val:\n",
    "        return generate_bit_prime(size)\n",
    "    return prime\n",
    "\n",
    "prime_20_bit: int = generate_bit_prime(20)\n",
    "hex(prime_20_bit)\n"
   ]
  },
  {
   "cell_type": "code",
   "execution_count": null,
   "metadata": {},
   "outputs": [],
   "source": [
    "p = 0xD3915\n",
    "\n",
    "F = GF(p)"
   ]
  },
  {
   "cell_type": "code",
   "execution_count": null,
   "metadata": {},
   "outputs": [
    {
     "data": {
      "text/plain": [
       "(738492, 694682, 926251)"
      ]
     },
     "execution_count": 91,
     "metadata": {},
     "output_type": "execute_result"
    }
   ],
   "source": [
    "\n",
    "import random\n",
    "\n",
    "def get_elliptic_parameters(size):\n",
    "    # random r\n",
    "    while True:\n",
    "        random_bit = random.getrandbits(size)\n",
    "        binary_rand = '0' + bin(random_bit)[2:].zfill(size)\n",
    "        r = int(binary_rand, 2)\n",
    "\n",
    "        # random B same manner as r\n",
    "        random_bit = random.getrandbits(size)\n",
    "        binary_rand = '0' + bin(random_bit)[2:].zfill(size)\n",
    "        b = int(binary_rand, 2)\n",
    "\n",
    "        R.<a> = PolynomialRing(F)\n",
    "        L = (r*b**2-a**3).roots()\n",
    "\n",
    "        for u in L:\n",
    "            check = (4*u[0]**2 + 27*b**2) % p\n",
    "            if check != 0:\n",
    "                a = u[0]\n",
    "                return a, b, r\n",
    "    \n",
    "\n",
    "a, b ,r = get_elliptic_parameters(20)\n",
    "a, b, r"
   ]
  },
  {
   "cell_type": "markdown",
   "metadata": {},
   "source": [
    "### CURVE DEFINITION"
   ]
  },
  {
   "cell_type": "code",
   "execution_count": 4,
   "metadata": {},
   "outputs": [
    {
     "name": "stdout",
     "output_type": "stream",
     "text": [
      "Curve: Elliptic Curve defined by y^2 = x^3 + 738492*x + 694682 over Finite Field of size 866581\n"
     ]
    }
   ],
   "source": [
    "## CURVE DEFINITION\n",
    "p = 0xD3915\n",
    "F = GF(p)\n",
    "a = 738492\n",
    "b = 694682\n",
    "r = 926251\n",
    "ECurv = EllipticCurve(F, [a, b])\n",
    "\n",
    "print(f\"Curve: {ECurv}\")"
   ]
  },
  {
   "cell_type": "code",
   "execution_count": 5,
   "metadata": {},
   "outputs": [
    {
     "data": {
      "text/plain": [
       "(109605 : 690162 : 1)"
      ]
     },
     "execution_count": 5,
     "metadata": {},
     "output_type": "execute_result"
    }
   ],
   "source": [
    "# Test case 1\n",
    "p1 = ECurv(184224, 74658)\n",
    "p2 = ECurv(428817, 567437)\n",
    "\n",
    "p1+p2"
   ]
  },
  {
   "cell_type": "code",
   "execution_count": 7,
   "metadata": {},
   "outputs": [],
   "source": [
    "# Test case 2\n",
    "# p1 = ECurv(195914, 577386)\n",
    "# p2 = ECurv(589027, 802679)\n",
    "\n",
    "# p1+p2"
   ]
  },
  {
   "cell_type": "code",
   "execution_count": 9,
   "metadata": {},
   "outputs": [],
   "source": [
    "# # Test case 3\n",
    "# p1 = ECurv(195914, 577386)\n",
    "# p2 = ECurv(589027, 802679)\n",
    "\n",
    "# p1+p2\n",
    "\n",
    "# ECurv"
   ]
  },
  {
   "cell_type": "markdown",
   "metadata": {},
   "source": [
    "### POINT MULTIPLY TESTS"
   ]
  },
  {
   "cell_type": "code",
   "execution_count": 11,
   "metadata": {},
   "outputs": [
    {
     "data": {
      "text/plain": [
       "(632162 : 737833 : 1)"
      ]
     },
     "execution_count": 11,
     "metadata": {},
     "output_type": "execute_result"
    }
   ],
   "source": [
    "p1 = ECurv(264320, 549393)\n",
    "\n",
    "p1"
   ]
  },
  {
   "cell_type": "code",
   "execution_count": 27,
   "metadata": {
    "vscode": {
     "languageId": "plaintext"
    }
   },
   "outputs": [
    {
     "ename": "SyntaxError",
     "evalue": "invalid decimal literal (819186979.py, line 10)",
     "output_type": "error",
     "traceback": [
      "\u001b[0;36m  Cell \u001b[0;32mIn[27], line 10\u001b[0;36m\u001b[0m\n\u001b[0;31m    P_x = 74BF8\u001b[0m\n\u001b[0m           ^\u001b[0m\n\u001b[0;31mSyntaxError\u001b[0m\u001b[0;31m:\u001b[0m invalid decimal literal\n"
     ]
    }
   ],
   "source": [
    "======= ECCp-20 =======\n",
    "p = D3915\n",
    "\n",
    "a = B44BC\n",
    "b = A999A\n",
    "r = E222B\n",
    "h = 01\n",
    "n = 865842\n",
    "\n",
    "P_x = 74BF8\n",
    "P_y = C557E\n",
    "\n",
    "Q_x = 0679 834CEFB7 215DC365\n",
    "Q_y = 4084 BC50388C 4E6FDFAB"
   ]
  }
 ],
 "metadata": {
  "kernelspec": {
   "display_name": "SageMath 8.6",
   "language": "",
   "name": "sagemath"
  },
  "language_info": {
   "codemirror_mode": {
    "name": "ipython",
    "version": 3
   },
   "file_extension": ".py",
   "mimetype": "text/x-python",
   "name": "python",
   "nbconvert_exporter": "python",
   "pygments_lexer": "ipython3",
   "version": "3.11.1"
  }
 },
 "nbformat": 4,
 "nbformat_minor": 2
}
