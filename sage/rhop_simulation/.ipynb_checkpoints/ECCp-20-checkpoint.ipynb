{
 "cells": [
  {
   "cell_type": "code",
   "execution_count": 134,
   "metadata": {},
   "outputs": [],
   "source": [
    "from sage.all import *\n",
    "p = 0xD3915\n",
    "\n",
    "F = GF(p)"
   ]
  },
  {
   "cell_type": "code",
   "execution_count": 135,
   "metadata": {},
   "outputs": [
    {
     "data": {
      "text/plain": [
       "(547613, 540474, 738610)"
      ]
     },
     "execution_count": 135,
     "metadata": {},
     "output_type": "execute_result"
    }
   ],
   "source": [
    "\n",
    "import random\n",
    "\n",
    "def get_elliptic_parameters(size):\n",
    "    # random r\n",
    "    while True:\n",
    "        random_bit = random.getrandbits(size)\n",
    "        binary_rand = '0' + bin(random_bit)[2:].zfill(size)\n",
    "        r = int(binary_rand, 2)\n",
    "\n",
    "        # random B same manner as r\n",
    "        random_bit = random.getrandbits(size)\n",
    "        binary_rand = '0' + bin(random_bit)[2:].zfill(size)\n",
    "        b = int(binary_rand, 2)\n",
    "\n",
    "        R.<a> = PolynomialRing(F)\n",
    "        L = (r*b**2-a**3).roots()\n",
    "\n",
    "        for u in L:\n",
    "            check = (4*u[0]**2 + 27*b**2) % p\n",
    "            if check != 0:\n",
    "                a = u[0]\n",
    "                return a, b, r\n",
    "    \n",
    "\n",
    "a, b ,r = get_elliptic_parameters(20)\n",
    "a, b, r"
   ]
  },
  {
   "cell_type": "markdown",
   "metadata": {},
   "source": [
    "### CURVE DEFINITION"
   ]
  },
  {
   "cell_type": "code",
   "execution_count": 11,
   "metadata": {},
   "outputs": [
    {
     "name": "stdout",
     "output_type": "stream",
     "text": [
      "Curve: Elliptic Curve defined by y^2 = x^3 + 738492*x + 694682 over Finite Field of size 866581\n"
     ]
    }
   ],
   "source": [
    "## CURVE DEFINITION\n",
    "p = 0xD3915\n",
    "F = GF(p)\n",
    "a = 738492\n",
    "b = 694682\n",
    "r = 926251\n",
    "ECurv = EllipticCurve(F, [a, b])\n",
    "\n",
    "print(f\"Curve: {ECurv}\")"
   ]
  },
  {
   "cell_type": "code",
   "execution_count": 12,
   "metadata": {},
   "outputs": [
    {
     "data": {
      "text/plain": [
       "(184224 : 74658 : 1)"
      ]
     },
     "execution_count": 12,
     "metadata": {},
     "output_type": "execute_result"
    }
   ],
   "source": [
    "# Test case 1\n",
    "p1 = ECurv(184224, 74658)\n",
    "p2 = ECurv(428817, 567437)\n",
    "\n",
    "p1+p2\n",
    "p1"
   ]
  },
  {
   "cell_type": "code",
   "execution_count": 22,
   "metadata": {},
   "outputs": [
    {
     "data": {
      "text/plain": [
       "(847840 : 636963 : 1)"
      ]
     },
     "execution_count": 22,
     "metadata": {},
     "output_type": "execute_result"
    }
   ],
   "source": [
    "# Test case 2\n",
    "p1 = ECurv(24069, 233375)\n",
    "p2 = ECurv(249867, 503874)\n",
    "\n",
    "p1+p2"
   ]
  },
  {
   "cell_type": "code",
   "execution_count": 25,
   "metadata": {},
   "outputs": [
    {
     "data": {
      "text/plain": [
       "(548652 : 419566 : 1)"
      ]
     },
     "execution_count": 25,
     "metadata": {},
     "output_type": "execute_result"
    }
   ],
   "source": [
    "# # Test case 3\n",
    "p1 = ECurv(40300, 763164)\n",
    "p2 = ECurv(18900, 353015)\n",
    "\n",
    "p1+p2\n",
    "\n",
    "# ECurv.random_point()"
   ]
  },
  {
   "cell_type": "markdown",
   "metadata": {},
   "source": [
    "### POINT MULTIPLY TESTS"
   ]
  },
  {
   "cell_type": "code",
   "execution_count": 26,
   "metadata": {},
   "outputs": [
    {
     "data": {
      "text/plain": [
       "(38956 : 83726 : 1)"
      ]
     },
     "execution_count": 26,
     "metadata": {},
     "output_type": "execute_result"
    }
   ],
   "source": [
    "p1 = ECurv(264320, 549393)\n",
    "\n",
    "4*p1"
   ]
  },
  {
   "cell_type": "markdown",
   "metadata": {},
   "source": [
    "### POINT ADD IMPL"
   ]
  },
  {
   "cell_type": "code",
   "execution_count": 5,
   "metadata": {},
   "outputs": [],
   "source": [
    "\n",
    "from sage.all import *\n",
    "\n",
    "def ell_add(E, P1, P2):\n",
    "    a, b, p = E\n",
    "    if P1 == \"inf\":\n",
    "        return P2\n",
    "    if P2 == \"inf\":\n",
    "        return P1\n",
    "    x1, y1 = P1\n",
    "    x2, y2 = P2\n",
    "\n",
    "    if x1 == x2 and y1 == (p - y2):\n",
    "        return \"inf\"\n",
    "\n",
    "    if P1 == P2:\n",
    "        if y1 == 0:\n",
    "            return \"inf\"\n",
    "        lam = ((3 * (x1 ** 2) + a) * inverse_mod(2 * y1, p)) % p\n",
    "    else:\n",
    "        lam = ((y2 - y1) * inverse_mod(x2 - x1, p)) % p\n",
    "\n",
    "    x3 = (lam ** 2 - x1 - x2) % p\n",
    "    y3 = (-lam * x3 - y1 + lam * x1) % p\n",
    "    return (x3, y3)"
   ]
  },
  {
   "cell_type": "markdown",
   "metadata": {},
   "source": [
    "### RHO POLLARD"
   ]
  },
  {
   "cell_type": "code",
   "execution_count": 147,
   "metadata": {},
   "outputs": [],
   "source": [
    "\n",
    "from typing import Tuple\n",
    "\n",
    "\n",
    "class Group_parameters:\n",
    "    def __init__(self, E, P, Q) -> None:\n",
    "        self.E: Tuple[int, int, int] = E # a, b, p of Elliptic Curve\n",
    "        self.P = P # generator\n",
    "        self.Q = Q # Pub Key\n",
    "\n",
    "\n",
    "class Triple:\n",
    "    def __init__(self, X, a, b) -> None:\n",
    "        self.X = X  # Point at Elliptic Curve\n",
    "        self.a = a  # just a number\n",
    "        self.b = b  # just a number\n",
    "\n",
    "    def __str__(self) -> str:\n",
    "        return f\"x = {self.X}, a = {self.a}, b = {self.b}\"\n",
    "\n",
    "\n",
    "def f(triple: Triple, group: Group_parameters) -> Triple:\n",
    "\n",
    "    x_of_xpoint = int(triple.X[0])\n",
    "\n",
    "    a, b, p = group.E\n",
    "\n",
    "    if x_of_xpoint % 3 == 0:\n",
    "        X = triple.X + group.Q\n",
    "        a = triple.a\n",
    "        b = (triple.b + 1) % p\n",
    "        # check \n",
    "        if (X != a * group.P + b * group.Q):\n",
    "            print(f\"3 xab: {X} {a} {b}\")\n",
    "        return Triple(X, a, b)\n",
    "    if x_of_xpoint % 3 == 1:\n",
    "        X = 2 * triple.X \n",
    "        a = (triple.a * 2) % p\n",
    "        b = (triple.b * 2) % p\n",
    "        if (X != a * group.P + b * group.Q):\n",
    "            print(f\"3 xab: {X} {a} {b}\")\n",
    "        return Triple(X, a, b)\n",
    "    else:\n",
    "        X = triple.X + group.P\n",
    "        a = (triple.a + 1) % p\n",
    "        b = triple.b\n",
    "        if (X != a * group.P + b * group.Q):\n",
    "            print(f\"3 xab: {X} {a} {b}\")\n",
    "        return Triple(X, a, b)\n",
    "\n",
    "\n",
    "def main(g: Group_parameters, t1):\n",
    "    i = 1\n",
    "\n",
    "    t2 = f(t1, g)\n",
    "\n",
    "    print(\"%s %s | %s %s\" % (i, t1, 2 * i, t2))\n",
    "\n",
    "    i = 2\n",
    "    while t1.X != t2.X and ((t1.b - t2.b) % p) != 0:\n",
    "        t1 = f(t1, g)\n",
    "        t2 = f(f(t2, g), g)\n",
    "        print(\"%s %s | %s %s\" % (i, t1, 2 * i, t2))\n",
    "        i = i + 1\n",
    "\n",
    "    print(f\"Found:\\nt1: {t1}\\nt2: {t2}\")\n",
    "\n",
    "    x = ((t2.a - t1.a) * inverse_mod((t1.b - t2.b), g.E[2])) % p\n",
    "\n",
    "    print(x)"
   ]
  },
  {
   "cell_type": "code",
   "execution_count": 156,
   "metadata": {},
   "outputs": [
    {
     "name": "stdout",
     "output_type": "stream",
     "text": [
      "(3 : 16 : 1)\n",
      "(6 : 14 : 1)\n",
      "X_0: (13 : 10 : 1)\n",
      "a_0: 14\n",
      "b_0: 14\n",
      "3 xab: (10 : 6 : 1) 11 11\n",
      "1 x = (13 : 10 : 1), a = 14, b = 14 | 2 x = (10 : 6 : 1), a = 11, b = 11\n",
      "3 xab: (10 : 6 : 1) 11 11\n",
      "3 xab: (16 : 13 : 1) 5 5\n",
      "3 xab: (0 : 11 : 1) 10 10\n",
      "2 x = (10 : 6 : 1), a = 11, b = 11 | 4 x = (0 : 11 : 1), a = 10, b = 10\n",
      "3 xab: (16 : 13 : 1) 5 5\n",
      "3 xab: (7 : 11 : 1) 10 11\n",
      "3 xab: (5 : 1 : 1) 3 5\n",
      "3 x = (16 : 13 : 1), a = 5, b = 5 | 6 x = (5 : 1 : 1), a = 3, b = 5\n",
      "Found:\n",
      "t1: x = (16 : 13 : 1), a = 5, b = 5\n",
      "t2: x = (5 : 1 : 1), a = 3, b = 5\n"
     ]
    },
    {
     "ename": "ZeroDivisionError",
     "evalue": "inverse of Mod(0, 17) does not exist",
     "output_type": "error",
     "traceback": [
      "\u001b[0;31m---------------------------------------------------------------------------\u001b[0m",
      "\u001b[0;31mZeroDivisionError\u001b[0m                         Traceback (most recent call last)",
      "Cell \u001b[0;32mIn[156], line 27\u001b[0m\n\u001b[1;32m     25\u001b[0m \u001b[38;5;28mprint\u001b[39m(\u001b[38;5;124mf\u001b[39m\u001b[38;5;124m\"\u001b[39m\u001b[38;5;124mb_0: \u001b[39m\u001b[38;5;132;01m{\u001b[39;00mb_i\u001b[38;5;132;01m}\u001b[39;00m\u001b[38;5;124m\"\u001b[39m)\n\u001b[1;32m     26\u001b[0m t \u001b[38;5;241m=\u001b[39m Triple(X_i, a_i, b_i)\n\u001b[0;32m---> 27\u001b[0m x \u001b[38;5;241m=\u001b[39m \u001b[43mmain\u001b[49m\u001b[43m(\u001b[49m\u001b[43mg\u001b[49m\u001b[43m,\u001b[49m\u001b[43m \u001b[49m\u001b[43mt\u001b[49m\u001b[43m)\u001b[49m\n",
      "Cell \u001b[0;32mIn[147], line 67\u001b[0m, in \u001b[0;36mmain\u001b[0;34m(g, t1)\u001b[0m\n\u001b[1;32m     63\u001b[0m     i \u001b[38;5;241m=\u001b[39m i \u001b[38;5;241m+\u001b[39m Integer(\u001b[38;5;241m1\u001b[39m)\n\u001b[1;32m     65\u001b[0m \u001b[38;5;28mprint\u001b[39m(\u001b[38;5;124mf\u001b[39m\u001b[38;5;124m\"\u001b[39m\u001b[38;5;124mFound:\u001b[39m\u001b[38;5;130;01m\\n\u001b[39;00m\u001b[38;5;124mt1: \u001b[39m\u001b[38;5;132;01m{\u001b[39;00mt1\u001b[38;5;132;01m}\u001b[39;00m\u001b[38;5;130;01m\\n\u001b[39;00m\u001b[38;5;124mt2: \u001b[39m\u001b[38;5;132;01m{\u001b[39;00mt2\u001b[38;5;132;01m}\u001b[39;00m\u001b[38;5;124m\"\u001b[39m)\n\u001b[0;32m---> 67\u001b[0m x \u001b[38;5;241m=\u001b[39m ((t2\u001b[38;5;241m.\u001b[39ma \u001b[38;5;241m-\u001b[39m t1\u001b[38;5;241m.\u001b[39ma) \u001b[38;5;241m*\u001b[39m \u001b[43minverse_mod\u001b[49m\u001b[43m(\u001b[49m\u001b[43m(\u001b[49m\u001b[43mt1\u001b[49m\u001b[38;5;241;43m.\u001b[39;49m\u001b[43mb\u001b[49m\u001b[43m \u001b[49m\u001b[38;5;241;43m-\u001b[39;49m\u001b[43m \u001b[49m\u001b[43mt2\u001b[49m\u001b[38;5;241;43m.\u001b[39;49m\u001b[43mb\u001b[49m\u001b[43m)\u001b[49m\u001b[43m,\u001b[49m\u001b[43m \u001b[49m\u001b[43mg\u001b[49m\u001b[38;5;241;43m.\u001b[39;49m\u001b[43mE\u001b[49m\u001b[43m[\u001b[49m\u001b[43mInteger\u001b[49m\u001b[43m(\u001b[49m\u001b[38;5;241;43m2\u001b[39;49m\u001b[43m)\u001b[49m\u001b[43m]\u001b[49m\u001b[43m)\u001b[49m) \u001b[38;5;241m%\u001b[39m p\n\u001b[1;32m     69\u001b[0m \u001b[38;5;28mprint\u001b[39m(x)\n",
      "File \u001b[0;32m~/sage/sage/src/sage/arith/misc.py:2178\u001b[0m, in \u001b[0;36minverse_mod\u001b[0;34m(a, m)\u001b[0m\n\u001b[1;32m   2153\u001b[0m \u001b[38;5;250m\u001b[39m\u001b[38;5;124;03m\"\"\"\u001b[39;00m\n\u001b[1;32m   2154\u001b[0m \u001b[38;5;124;03mThe inverse of the ring element a modulo m.\u001b[39;00m\n\u001b[1;32m   2155\u001b[0m \n\u001b[0;32m   (...)\u001b[0m\n\u001b[1;32m   2175\u001b[0m \u001b[38;5;124;03m    3\u001b[39;00m\n\u001b[1;32m   2176\u001b[0m \u001b[38;5;124;03m\"\"\"\u001b[39;00m\n\u001b[1;32m   2177\u001b[0m \u001b[38;5;28;01mtry\u001b[39;00m:\n\u001b[0;32m-> 2178\u001b[0m     \u001b[38;5;28;01mreturn\u001b[39;00m \u001b[43ma\u001b[49m\u001b[38;5;241;43m.\u001b[39;49m\u001b[43minverse_mod\u001b[49m\u001b[43m(\u001b[49m\u001b[43mm\u001b[49m\u001b[43m)\u001b[49m\n\u001b[1;32m   2179\u001b[0m \u001b[38;5;28;01mexcept\u001b[39;00m \u001b[38;5;167;01mAttributeError\u001b[39;00m:\n\u001b[1;32m   2180\u001b[0m     \u001b[38;5;28;01mreturn\u001b[39;00m Integer(a)\u001b[38;5;241m.\u001b[39minverse_mod(m)\n",
      "File \u001b[0;32m~/sage/sage/src/sage/rings/integer.pyx:6964\u001b[0m, in \u001b[0;36msage.rings.integer.Integer.inverse_mod\u001b[0;34m()\u001b[0m\n\u001b[1;32m   6962\u001b[0m sig_off()\n\u001b[1;32m   6963\u001b[0m if r == 0:\n\u001b[0;32m-> 6964\u001b[0m     raise ZeroDivisionError(f\"inverse of Mod({self}, {m}) does not exist\")\n\u001b[1;32m   6965\u001b[0m return ans\n\u001b[1;32m   6966\u001b[0m \n",
      "\u001b[0;31mZeroDivisionError\u001b[0m: inverse of Mod(0, 17) does not exist"
     ]
    }
   ],
   "source": [
    "\n",
    "# TEST DATA\n",
    "\n",
    "ECurv = EllipticCurve(GF(17), [2,2])\n",
    "p = 17\n",
    "a = 2\n",
    "b = 2\n",
    "\n",
    "\n",
    "import random\n",
    "P = ECurv.random_point()\n",
    "print(P)\n",
    "\n",
    "Q = 10 * P\n",
    "\n",
    "print(Q)\n",
    "\n",
    "E = (int(a), int(b), int(p))\n",
    "g = Group_parameters(E, P, Q)\n",
    "\n",
    "a_i = random.randint(2, p-2)\n",
    "b_i = random.randint(2, p-2)\n",
    "X_i = a_i * P + b_i * Q\n",
    "print(f\"X_0: {X_i}\")\n",
    "print(f\"a_0: {a_i}\")\n",
    "print(f\"b_0: {b_i}\")\n",
    "t = Triple(X_i, a_i, b_i)\n",
    "x = main(g, t)"
   ]
  },
  {
   "cell_type": "code",
   "execution_count": 175,
   "metadata": {},
   "outputs": [
    {
     "name": "stdout",
     "output_type": "stream",
     "text": [
      "Mod\n",
      "1\n",
      "(13 : 10 : 1)\n",
      "P and Q\n",
      "(13 : 10 : 1)\n",
      "(3 : 16 : 1)\n",
      "(6 : 14 : 1)\n",
      "X double\n",
      "(10 : 6 : 1)\n",
      "11\n",
      "11\n",
      "(10 : 6 : 1)\n",
      "(7 : 11 : 1)\n"
     ]
    }
   ],
   "source": [
    "print(f\"MOD: {13 % 3})\n",
    "\n",
    "X = ECurv(13,10)\n",
    "print(X)\n",
    "\n",
    "print(\"P and Q\")\n",
    "print(P*14 + Q*14)\n",
    "print(P)\n",
    "print(Q)\n",
    "\n",
    "print(\"X double\")\n",
    "print(2*X)\n",
    "X_1 = 2*(P*14 + Q*14)\n",
    "print((14*2) % 17)\n",
    "print((14*2) % 17)\n",
    "\n",
    "print(X_1)\n",
    "print(P*11 + Q*11)"
   ]
  },
  {
   "cell_type": "code",
   "execution_count": 127,
   "metadata": {},
   "outputs": [],
   "source": [
    "from sage.all import *\n",
    "\n",
    "def func_f(X_i, P, Q, E):\n",
    "    \"\"\"\n",
    "        To calculate X_(i+1) = f(X_i)\n",
    "\n",
    "        :parameters:\n",
    "            X_i : sage.schemes.elliptic_curves.ell_point.EllipticCurvePoint_finite_field\n",
    "                X_i = (a_i * P) + (b_i * Q)\n",
    "            P : sage.schemes.elliptic_curves.ell_point.EllipticCurvePoint_finite_field\n",
    "                Base point on which ECDLP is defined\n",
    "            Q : sage.schemes.elliptic_curves.ell_point.EllipticCurvePoint_finite_field\n",
    "                Q = x*P, where `x` is the secret key\n",
    "            E : sage.schemes.elliptic_curves.ell_finite_field.EllipticCurve_finite_field_with_category\n",
    "                Elliptic Curve defined as y^2 = x^3 + a*x + b mod p\n",
    "    \"\"\"\n",
    "    try:\n",
    "        # Point P and Q should lie on the Elliptic Curve E\n",
    "        assert P == E((P[0], P[1]))\n",
    "        assert Q == E((Q[0], Q[1]))\n",
    "    except Exception as e:\n",
    "        # Do not return anything if the point is invalid\n",
    "        print(\"[-] Point does not lie on the curve!\")\n",
    "        return None\n",
    "    if int(X_i[0]) % 3 == 2:\n",
    "        # Partition S_1\n",
    "        return X_i + Q\n",
    "    if int(X_i[0]) % 3 == 0:\n",
    "        # Partition S_2\n",
    "        return 2*X_i\n",
    "    if int(X_i[0]) % 3 == 1:\n",
    "        # Partition S_3\n",
    "        return X_i + P\n",
    "    else:\n",
    "        print(\"[-] Something's Wrong!\")\n",
    "        return -1\n",
    "\n",
    "def func_g(a, P, X_i, E):\n",
    "    \"\"\"\n",
    "    Calculate a_(i+1) = g(a)\n",
    "\n",
    "    :parameters:\n",
    "        a : int/long\n",
    "            Equivalent to a_i in X_i = a_i*P + b_i*Q\n",
    "        P : sage.schemes.elliptic_curves.ell_point.EllipticCurvePoint_finite_field\n",
    "            Base point on which ECDLP is defined\n",
    "        X_i : sage.schemes.elliptic_curves.ell_point.EllipticCurvePoint_finite_field\n",
    "            X_i = a_i*P + b_i*Q\n",
    "        E : sage.schemes.elliptic_curves.ell_finite_field.EllipticCurve_finite_field_with_category\n",
    "            Elliptic Curve defined as y^2 = x^3 + a*x + b mod p\n",
    "    \"\"\"\n",
    "    try:\n",
    "        assert P == E((P[0], P[1]))\n",
    "    except Exception as e:\n",
    "        print(e)\n",
    "        print(\"[-] Point does not lie on the curve\")\n",
    "        return None\n",
    "    n = P.order()\n",
    "    if int(X_i[0]) % 3 == 2:\n",
    "        # Partition S_1\n",
    "        return a\n",
    "    if int(X_i[0]) % 3 == 0:\n",
    "        # Partition S_2\n",
    "        return 2*a % n\n",
    "    if int(X_i[0]) % 3 == 1:\n",
    "        # Partition S_3\n",
    "        return (a + 1) % n\n",
    "    else:\n",
    "        print(\"[-] Something's Wrong!\")\n",
    "        return None\n",
    "\n",
    "def func_h(b, P, X_i, E):\n",
    "    \"\"\"\n",
    "    Calculate a_(i+1) = g(a)\n",
    "\n",
    "    :parameters:\n",
    "        a : int/long\n",
    "            Equivalent to a_i in X_i = a_i*P + b_i*Q\n",
    "        P : sage.schemes.elliptic_curves.ell_point.EllipticCurvePoint_finite_field\n",
    "            Base point on which ECDLP is defined\n",
    "        X_i : sage.schemes.elliptic_curves.ell_point.EllipticCurvePoint_finite_field\n",
    "            X_i = a_i*P + b_i*Q\n",
    "        E : sage.schemes.elliptic_curves.ell_finite_field.EllipticCurve_finite_field_with_category\n",
    "            Elliptic Curve defined as y^2 = x^3 + a*x + b mod p\n",
    "    \"\"\"\n",
    "    try:\n",
    "        assert P == E((P[0], P[1]))\n",
    "    except Exception as e:\n",
    "        print(e)\n",
    "        print(\"[-] Point does not lie on the curve\")\n",
    "        return None\n",
    "    n = P.order()\n",
    "    if int(X_i[0]) % 3 == 2:\n",
    "        # Partition S_1\n",
    "        return (b + 1) % n\n",
    "    if int(X_i[0]) % 3 == 0:\n",
    "        # Partition S_2\n",
    "        return 2*b % n\n",
    "    if int(X_i[0]) % 3 == 1:\n",
    "        # Partition S_3\n",
    "        return b\n",
    "    else:\n",
    "        print(\"[-] Something's Wrong!\")\n",
    "        return None\n",
    "\n",
    "def pollardrho(P, Q, E):\n",
    "    try:\n",
    "        assert P == E((P[0], P[1]))\n",
    "        assert Q == E((Q[0], Q[1]))\n",
    "    except Exception as e:\n",
    "        print(e)\n",
    "        print(\"[-] Point does not lie on the curve\")\n",
    "        return None\n",
    "    n = P.order()\n",
    "\n",
    "    for j in range(10):\n",
    "        a_i = random.randint(2, P.order()-2)\n",
    "        b_i = random.randint(2, P.order()-2)\n",
    "        a_2i = random.randint(2, P.order()-2)\n",
    "        b_2i = random.randint(2, P.order()-2)\n",
    "\n",
    "        X_i = a_i*P + b_i*Q\n",
    "        X_2i = a_2i*P + b_2i*Q\n",
    "\n",
    "        i = 1\n",
    "        while i <= n:\n",
    "            # Single Step Calculations\n",
    "            a_i = func_g(a_i, P, X_i, E)\n",
    "            b_i = func_h(b_i, P, X_i, E)\n",
    "            X_i = func_f(X_i, P, Q, E)\n",
    "\n",
    "            # Double Step Calculations\n",
    "            a_2i = func_g(func_g(a_2i, P, X_2i, E), P, func_f(X_2i, P, Q, E), E)\n",
    "            b_2i = func_h(func_h(b_2i, P, X_2i, E), P, func_f(X_2i, P, Q, E), E)\n",
    "            X_2i = func_f(func_f(X_2i, P, Q, E), P, Q, E)\n",
    "\n",
    "            if X_i == X_2i:\n",
    "                if b_i == b_2i:\n",
    "                    break\n",
    "                assert GCD(b_2i - b_i, n) == 1\n",
    "                return ((a_i - a_2i) * inverse_mod(b_2i - b_i, n)) % n\n",
    "            else:\n",
    "                i += 1\n",
    "                continue\n",
    "\n",
    "if __name__ == \"__main__\":\n",
    "    import random\n",
    "    for i in range(100):\n",
    "        E = EllipticCurve(GF(17), [2, 2])\n",
    "        P = E((5, 1))\n",
    "        x = random.randint(2, P.order()-2)\n",
    "        Q = x*P\n",
    "        assert pollardrho(P, Q, E)*P == Q"
   ]
  }
 ],
 "metadata": {
  "kernelspec": {
   "display_name": "SageMath 10.4.beta3",
   "language": "sage",
   "name": "sagemath"
  },
  "language_info": {
   "codemirror_mode": {
    "name": "ipython",
    "version": 3
   },
   "file_extension": ".py",
   "mimetype": "text/x-python",
   "name": "python",
   "nbconvert_exporter": "python",
   "pygments_lexer": "ipython3",
   "version": "3.11.1"
  }
 },
 "nbformat": 4,
 "nbformat_minor": 4
}
