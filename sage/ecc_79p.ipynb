{
 "cells": [
  {
   "cell_type": "code",
   "execution_count": 21,
   "metadata": {},
   "outputs": [],
   "source": [
    "# p = 62CE 5177412A CA899CF5\n",
    "# seedE = 3409C5C7 E50FF4D6 96E67687 56151755 2DF2B489\n",
    "# r = 1CE4 AF36EED8 DE22B99D\n",
    "# a = 39C9 5E6DDDB1 BC45733C\n",
    "# b = 1F16 D880E89D 5A1C0ED1\n",
    "# h = 01\n",
    "# n = 62CE 5177407B 7258DC31\n",
    "# seedP = 1FD36F3C 978D0398 EAB24D69 6E676875 61517593\n",
    "# P_x = 315D 4B201C20 8475057D\n",
    "# P_y = 035F 3DF5AB37 0252450A\n",
    "# seedQ = 37A5B90A 4D696E67 68756151 75D52727 640CFCA6\n",
    "# Q_x = 0679 834CEFB7 215DC365\n",
    "# Q_y = 4084 BC50388C 4E6FDFAB\n",
    "\n",
    "p = 0x62CE5177412ACA899CF5\n",
    "r = 0x1CE4AF36EED8DE22B99D\n",
    "\n",
    "a = 0x39C95E6DDDB1BC45733C\n",
    "b = 0x1F16D880E89D5A1C0ED1\n",
    "\n",
    "n = 0x62CE5177407B7258DC31\n",
    "\n",
    "P_x = 0x315D4B201C208475057D\n",
    "P_y = 0x035F3DF5AB370252450A\n",
    "\n",
    "Q_x = 0x0679834CEFB7215DC365\n",
    "Q_y = 0x4084BC50388C4E6FDFAB\n",
    "\n",
    "F = GF(p)\n",
    "E = EllipticCurve(F, [a,b])\n",
    "\n",
    "P = E(P_x, P_y)\n",
    "Q = E(Q_x, Q_y)"
   ]
  },
  {
   "cell_type": "code",
   "execution_count": 22,
   "metadata": {},
   "outputs": [
    {
     "data": {
      "text/plain": [
       "(427578534595556323871338 : 187534832872140967563575 : 1)"
      ]
     },
     "execution_count": 22,
     "metadata": {},
     "output_type": "execute_result"
    }
   ],
   "source": [
    "R = P + Q\n",
    "R"
   ]
  },
  {
   "cell_type": "code",
   "execution_count": 23,
   "metadata": {},
   "outputs": [
    {
     "name": "stdout",
     "output_type": "stream",
     "text": [
      "P: x: 0000315d 4b201c20 8475057d y: 0000035f 3df5ab37 0252450a\n",
      "Q: x: 00000679 834cefb7 215dc365 y: 00004084 bc50388c 4e6fdfab\n",
      "R: x: 00005a8b 142c9e7d bdd7ca6a y: 000027b6 489dff15 7328d137\n",
      "Mod P: 000062ce 5177412a ca899cf5\n",
      "a: 000039c9 5e6dddb1 bc45733c\n"
     ]
    }
   ],
   "source": [
    "def print_hex_as_limbs(number):\n",
    "    # Convert the number to a hex string and remove '0x'\n",
    "    hex_value = hex(number)[2:]\n",
    "    \n",
    "    # Pad with leading zeros to ensure it's a multiple of 8 characters (4 bytes)\n",
    "    hex_value = hex_value.zfill((len(hex_value) + 7) // 8 * 8)\n",
    "    \n",
    "    # Split the hex value into 4-byte (8 characters) limbs\n",
    "    limbs = [hex_value[i:i+8] for i in range(0, len(hex_value), 8)]\n",
    "    \n",
    "    # Print the limbs separated by spaces\n",
    "    return ' '.join(limbs)\n",
    "\n",
    "print(f\"P: x: {print_hex_as_limbs(P[0])} y: {print_hex_as_limbs(P[1])}\")\n",
    "print(f\"Q: x: {print_hex_as_limbs(Q[0])} y: {print_hex_as_limbs(Q[1])}\")\n",
    "\n",
    "print(f\"R: x: {print_hex_as_limbs(R[0])} y: {print_hex_as_limbs(R[1])}\")\n",
    "\n",
    "print(f\"Mod P: {print_hex_as_limbs(p)}\")\n",
    "print(f\"a: {print_hex_as_limbs(a)}\")"
   ]
  },
  {
   "cell_type": "code",
   "execution_count": 24,
   "metadata": {},
   "outputs": [
    {
     "data": {
      "text/plain": [
       "'00002ae3 c7d32c69 63174218'"
      ]
     },
     "execution_count": 24,
     "metadata": {},
     "output_type": "execute_result"
    }
   ],
   "source": [
    "# print(print_hex_as_limbs(P[0]))\n",
    "# print(print_hex_as_limbs(Q[0]))\n",
    "# lam = (inverse_mod(int(P[0]) - int(Q[0]), p) * (int(P[1]) - int(Q[1])))**2 % p\n",
    "# print_hex_as_limbs(lam)\n",
    "# print_hex_as_limbs(inverse_mod(int(P[0]) - int(Q[0]), p))\n",
    "\n",
    "# print_hex_as_limbs(int(lam) - (int(P[0]) + int(Q[0])))\n",
    "print_hex_as_limbs(Q[0] - P[0])"
   ]
  },
  {
   "cell_type": "code",
   "execution_count": 25,
   "metadata": {},
   "outputs": [
    {
     "data": {
      "text/plain": [
       "6"
      ]
     },
     "execution_count": 25,
     "metadata": {},
     "output_type": "execute_result"
    }
   ],
   "source": [
    "\n",
    "F = GF(11)\n",
    "\n",
    "\n",
    "(11 - (9 -3 + 10)) % 11\n",
    "\n",
    "# ((11 - (9 -3)) + 10) % 11\n"
   ]
  }
 ],
 "metadata": {
  "kernelspec": {
   "display_name": "SageMath 10.4.beta3",
   "language": "sage",
   "name": "sagemath"
  },
  "language_info": {
   "codemirror_mode": {
    "name": "ipython",
    "version": 3
   },
   "file_extension": ".py",
   "mimetype": "text/x-python",
   "name": "python",
   "nbconvert_exporter": "python",
   "pygments_lexer": "ipython3",
   "version": "3.11.1"
  }
 },
 "nbformat": 4,
 "nbformat_minor": 2
}
