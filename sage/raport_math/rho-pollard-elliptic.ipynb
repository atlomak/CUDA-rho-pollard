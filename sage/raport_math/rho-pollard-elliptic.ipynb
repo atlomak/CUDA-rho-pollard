{
 "cells": [
  {
   "cell_type": "markdown",
   "metadata": {},
   "source": [
    "### Algorytm rho Pollarda na grupie krzywej eliptycznej, na podstawie wersji dla grupy multiplikatywnej\n",
    "Zamiana na addytywną na podstawie izomorfizmu tych grup (f(xy) = f(x)+f(y))"
   ]
  },
  {
   "cell_type": "code",
   "execution_count": 174,
   "metadata": {},
   "outputs": [],
   "source": [
    "class Group_parameters:\n",
    "    def __init__(self, p, alpha, beta) -> None:\n",
    "        self.p = p\n",
    "        self.alpha = alpha\n",
    "        self.beta = beta\n",
    "\n",
    "\n",
    "class Triple:\n",
    "    def __init__(self, x, a, b) -> None:\n",
    "        self.x = x  # Point at Elliptic Curve\n",
    "        self.a = a  # just a number\n",
    "        self.b = b  # just a number\n",
    "\n",
    "    def __str__(self) -> str:\n",
    "        return f\"x = {self.x}, a = {self.a}, b = {self.b}\"\n",
    "\n",
    "\n",
    "def f(tripe: Triple, group: Group_parameters) -> Triple:\n",
    "    #print(\"Function run\")\n",
    "    #print(f\"Input: {tripe}\")\n",
    "\n",
    "    x_of_xpoint = tripe.x[0]\n",
    "    y_of_xpoint = tripe.x[1]\n",
    "\n",
    "    p = group.p\n",
    "\n",
    "    if int(y_of_xpoint) % 3 == 1:\n",
    "        x = group.beta + tripe.x\n",
    "        a = tripe.a\n",
    "        b = tripe.b + 1\n",
    "        # check \n",
    "        if (x != a * g.alpha + b * g.beta):\n",
    "            pass\n",
    "            print(f\"1 xab: {x} {a} {b}\")\n",
    "        return Triple(x, a, b)\n",
    "    if int(y_of_xpoint) % 3 == 0:\n",
    "        x = 2 * tripe.x\n",
    "        a = (tripe.a * 2)\n",
    "        b = (tripe.b * 2)\n",
    "        if (x != a * g.alpha + b * g.beta):\n",
    "            pass\n",
    "            print(f\"2 xab: {x} {a} {b}\")\n",
    "        return Triple(x, a, b)\n",
    "    else:\n",
    "        x = group.alpha + tripe.x\n",
    "        a = tripe.a + 1\n",
    "        b = tripe.b\n",
    "        if (x != a * g.alpha + b * g.beta):\n",
    "            pass\n",
    "            print(f\"3 xab: {x} {a} {b}\")\n",
    "        return Triple(x, a, b)\n",
    "\n",
    "\n",
    "def main(g: Group_parameters, t1):\n",
    "    i = 1\n",
    "\n",
    "    t2 = f(t1, g)\n",
    "\n",
    "    print(\"%s %s | %s %s\" % (i, t1, 2 * i, t2))\n",
    "\n",
    "    i = 2\n",
    "    while t1.x != t2.x:\n",
    "        t1 = f(t1, g)\n",
    "        t2 = f(f(t2, g), g)\n",
    "        print(\"%s %s | %s %s\" % (i, t1, 2 * i, t2))\n",
    "        i = i + 1\n",
    "\n",
    "    print(f\"Found:\\nt1: {t1}\\nt2: {t2}\")\n",
    "\n",
    "    x = -((t2.a - t1.a) / (t1.b - t2.b))\n",
    "\n",
    "    print(x)"
   ]
  },
  {
   "cell_type": "markdown",
   "metadata": {},
   "source": [
    "### Test (niestety na razie wynik niezgodny z oczekiwaniami)"
   ]
  },
  {
   "cell_type": "code",
   "execution_count": 179,
   "metadata": {},
   "outputs": [
    {
     "name": "stdout",
     "output_type": "stream",
     "text": [
      "1 x = (8 : 8 : 1), a = 2, b = 3 | 2 x = (5 : 9 : 1), a = 3, b = 3\n",
      "2 x = (5 : 9 : 1), a = 3, b = 3 | 4 x = (3 : 6 : 1), a = 12, b = 12\n",
      "3 x = (10 : 9 : 1), a = 6, b = 6 | 6 x = (5 : 9 : 1), a = 25, b = 24\n",
      "4 x = (3 : 6 : 1), a = 12, b = 12 | 8 x = (3 : 6 : 1), a = 100, b = 96\n",
      "Found:\n",
      "t1: x = (3 : 6 : 1), a = 12, b = 12\n",
      "t2: x = (3 : 6 : 1), a = 100, b = 96\n",
      "22/21\n"
     ]
    },
    {
     "data": {
      "text/plain": [
       "(8 : 8 : 1)"
      ]
     },
     "execution_count": 179,
     "metadata": {},
     "output_type": "execute_result"
    }
   ],
   "source": [
    "Gf = GF(11)\n",
    "\n",
    "\n",
    "E = EllipticCurve(Gf, [1, 6])\n",
    "\n",
    "# Alice -> Bob\n",
    "\n",
    "# Bob private\n",
    "m = 7\n",
    "\n",
    "# Bob public\n",
    "P = E(2, 7)\n",
    "Q = m * P\n",
    "\n",
    "g = Group_parameters(11, P, Q)\n",
    "\n",
    "t1 = Triple(E(8, 8), 2, 3)\n",
    "\n",
    "main(g, t1),\n",
    "\n",
    "2*P + 3*Q\n"
   ]
  },
  {
   "cell_type": "code",
   "execution_count": 122,
   "metadata": {},
   "outputs": [
    {
     "data": {
      "text/plain": [
       "0"
      ]
     },
     "execution_count": 122,
     "metadata": {},
     "output_type": "execute_result"
    }
   ],
   "source": [
    "(12-100) / ("
   ]
  }
 ],
 "metadata": {
  "kernelspec": {
   "display_name": "SageMath 9.5",
   "language": "sage",
   "name": "sagemath"
  },
  "language_info": {
   "codemirror_mode": {
    "name": "ipython",
    "version": 3
   },
   "file_extension": ".py",
   "mimetype": "text/x-python",
   "name": "python",
   "nbconvert_exporter": "python",
   "pygments_lexer": "ipython3",
   "version": "3.10.12"
  }
 },
 "nbformat": 4,
 "nbformat_minor": 2
}
