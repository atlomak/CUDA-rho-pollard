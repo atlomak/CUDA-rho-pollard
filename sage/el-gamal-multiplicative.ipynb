{
 "cells": [
  {
   "cell_type": "markdown",
   "metadata": {},
   "source": [
    "### EL GAMAL przykład (grupa multiplikatywna)"
   ]
  },
  {
   "cell_type": "markdown",
   "metadata": {},
   "source": [
    "#### Grupa rzędu 17"
   ]
  },
  {
   "cell_type": "code",
   "execution_count": 187,
   "metadata": {
    "vscode": {
     "languageId": "python"
    }
   },
   "outputs": [
    {
     "data": {
      "text/plain": [
       "5"
      ]
     },
     "execution_count": 187,
     "metadata": {},
     "output_type": "execute_result"
    }
   ],
   "source": [
    "G = Integers(11)\n",
    "\n",
    "# Bob:\n",
    "\n",
    "# Private\n",
    "x = G(3)\n",
    "\n",
    "## Public\n",
    "g = G(5)\n",
    "h = g^x\n",
    "\n",
    "# Alice:\n",
    "\n",
    "# Message\n",
    "m = G(5)\n",
    "\n",
    "# Private\n",
    "k = G(8)\n",
    "\n",
    "# Public\n",
    "a = g^k\n",
    "b = (h^k)*m\n",
    "\n",
    "# Decrypt Bob:\n",
    "b*(a^(-1))^x\n"
   ]
  },
  {
   "cell_type": "code",
   "execution_count": null,
   "metadata": {
    "vscode": {
     "languageId": "python"
    }
   },
   "outputs": [],
   "source": []
  },
  {
   "cell_type": "code",
   "execution_count": 220,
   "metadata": {
    "vscode": {
     "languageId": "python"
    }
   },
   "outputs": [
    {
     "data": {
      "text/plain": [
       "Finite Field of size 3"
      ]
     },
     "execution_count": 220,
     "metadata": {},
     "output_type": "execute_result"
    }
   ],
   "source": [
    "\n",
    "F = GF(9,'a')\n",
    "F.order()\n",
    "F.base()"
   ]
  }
 ],
 "metadata": {
  "kernelspec": {
   "display_name": "SageMath 9.5",
   "language": "sage",
   "name": "sagemath"
  },
  "language_info": {
   "codemirror_mode": {
    "name": "ipython",
    "version": 3
   },
   "file_extension": ".py",
   "mimetype": "text/x-python",
   "name": "sage",
   "nbconvert_exporter": "python",
   "pygments_lexer": "ipython3",
   "version": "3.10.12"
  }
 },
 "nbformat": 4,
 "nbformat_minor": 2
}
