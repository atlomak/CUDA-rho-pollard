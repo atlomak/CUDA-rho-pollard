{
 "cells": [
  {
   "cell_type": "code",
   "execution_count": 36,
   "metadata": {},
   "outputs": [
    {
     "data": {
      "text/plain": [
       "9"
      ]
     },
     "execution_count": 36,
     "metadata": {},
     "output_type": "execute_result"
    }
   ],
   "source": [
    "Gf = GF(11)\n",
    "E = EllipticCurve(Gf, [1, 6])\n",
    "\n",
    "# Alice -> Bob\n",
    "\n",
    "# Bob private\n",
    "m = 7\n",
    "\n",
    "# Bob public\n",
    "P = E(2, 7)\n",
    "Q = m * P\n",
    "\n",
    "\n",
    "def alice_encrypt():\n",
    "    k = 6  # random secret variable\n",
    "    x = 9  # message\n",
    "\n",
    "    kP = k * P\n",
    "    kQ = k * Q\n",
    "\n",
    "    secret_hash = safe_hash_function(kQ)\n",
    "\n",
    "    y1 = kP\n",
    "    y2 = (x + secret_hash) % 11\n",
    "    return (y1, y2)\n",
    "\n",
    "\n",
    "# just mock, should be secure one way hash fucntion\n",
    "def safe_hash_function(q):\n",
    "    if q == E(8, 3):\n",
    "        return 4\n",
    "    return 3\n",
    "\n",
    "\n",
    "# Alice sends cypher\n",
    "\n",
    "cypher = alice_encrypt()\n",
    "\n",
    "\n",
    "def bob_decrypt(cypher):\n",
    "    y1 = cypher[0]\n",
    "    y2 = cypher[1]\n",
    "\n",
    "    kQ = m * y1  # m * (kP) / but mP = Q so its kQ\n",
    "\n",
    "    secret_hash = safe_hash_function(kQ)\n",
    "\n",
    "    plain_message = (y2 - secret_hash) % 11\n",
    "\n",
    "    return plain_message\n",
    "\n",
    "\n",
    "bob_decrypt(cypher)"
   ]
  }
 ],
 "metadata": {
  "kernelspec": {
   "display_name": "SageMath 9.5",
   "language": "sage",
   "name": "sagemath"
  },
  "language_info": {
   "codemirror_mode": {
    "name": "ipython",
    "version": 3
   },
   "file_extension": ".py",
   "mimetype": "text/x-python",
   "name": "python",
   "nbconvert_exporter": "python",
   "pygments_lexer": "ipython3",
   "version": "3.10.12"
  }
 },
 "nbformat": 4,
 "nbformat_minor": 2
}
