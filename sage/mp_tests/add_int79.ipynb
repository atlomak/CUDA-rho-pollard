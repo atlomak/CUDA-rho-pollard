{
 "cells": [
  {
   "cell_type": "code",
   "execution_count": 3,
   "metadata": {},
   "outputs": [
    {
     "ename": "SyntaxError",
     "evalue": "invalid decimal literal (3801717629.py, line 5)",
     "output_type": "error",
     "traceback": [
      "\u001b[0;36m  Cell \u001b[0;32mIn[3], line 5\u001b[0;36m\u001b[0m\n\u001b[0;31m    b = Integer(0x12)+3456789A+BCDEF123  # Another 79-bit value\u001b[0m\n\u001b[0m                            ^\u001b[0m\n\u001b[0;31mSyntaxError\u001b[0m\u001b[0;31m:\u001b[0m invalid decimal literal\n"
     ]
    }
   ],
   "source": [
    "# SageMath script for adding large 79-bit numbers\n",
    "\n",
    "# Define two 79-bit numbers\n",
    "# a = 0x1FF FFFFFFFF FFFFFFFF  # 79-bit max value\n",
    "# b = 0x 12 3456789A BCDEF123  # Another 79-bit value\n",
    "\n",
    "\n",
    "a = 0x1FFFFFFFFFFFFFFFFFF  # 79-bit max value\n",
    "b = 0x123456789ABCDEF123  # Another 79-bit value\n",
    "\n",
    "# Perform addition\n",
    "result = a + b\n",
    "\n",
    "# Print the results\n",
    "print(f\"a = {hex(a)}\")\n",
    "print(f\"b = {hex(b)}\")\n",
    "print(f\"a + b = {hex(result)}\")\n"
   ]
  }
 ],
 "metadata": {
  "kernelspec": {
   "display_name": "SageMath 10.4.beta3",
   "language": "sage",
   "name": "sagemath"
  },
  "language_info": {
   "codemirror_mode": {
    "name": "ipython",
    "version": 3
   },
   "file_extension": ".py",
   "mimetype": "text/x-python",
   "name": "python",
   "nbconvert_exporter": "python",
   "pygments_lexer": "ipython3",
   "version": "3.11.1"
  }
 },
 "nbformat": 4,
 "nbformat_minor": 2
}
