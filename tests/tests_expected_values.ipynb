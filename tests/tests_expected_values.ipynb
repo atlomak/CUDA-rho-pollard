{
 "cells": [
  {
   "cell_type": "markdown",
   "metadata": {},
   "source": [
    "# Expected values for ECC operations"
   ]
  },
  {
   "cell_type": "code",
   "execution_count": 4,
   "metadata": {},
   "outputs": [
    {
     "data": {
      "text/plain": [
       "'pmod: 000062ce 5177412a ca899cf5'"
      ]
     },
     "execution_count": 4,
     "metadata": {},
     "output_type": "execute_result"
    },
    {
     "data": {
      "text/plain": [
       "'a: 000039c9 5e6dddb1 bc45733c'"
      ]
     },
     "execution_count": 4,
     "metadata": {},
     "output_type": "execute_result"
    }
   ],
   "source": [
    "from IPython.core.interactiveshell import InteractiveShell\n",
    "InteractiveShell.ast_node_interactivity = \"all\"\n",
    "\n",
    "p = 0x62CE5177412ACA899CF5\n",
    "r = 0x1CE4AF36EED8DE22B99D\n",
    "\n",
    "a = 0x39C95E6DDDB1BC45733C\n",
    "b = 0x1F16D880E89D5A1C0ED1\n",
    "\n",
    "n = 0x62CE5177407B7258DC31\n",
    "\n",
    "P_x = 0x315D4B201C208475057D\n",
    "P_y = 0x035F3DF5AB370252450A\n",
    "\n",
    "Q_x = 0x0679834CEFB7215DC365\n",
    "Q_y = 0x4084BC50388C4E6FDFAB\n",
    "\n",
    "F = GF(p)\n",
    "E = EllipticCurve(F, [a,b])\n",
    "\n",
    "P = E(P_x, P_y)\n",
    "Q = E(Q_x, Q_y)\n",
    "\n",
    "def to_limbs(number):\n",
    "    hex_value = hex(int(number))[2:]\n",
    "    \n",
    "    hex_value = hex_value.zfill((len(hex_value) + 7) // 8 * 8)\n",
    "    \n",
    "    limbs = [hex_value[i:i+8] for i in range(0, len(hex_value), 8)]\n",
    "    \n",
    "    return ' '.join(limbs)\n",
    "\n",
    "\"pmod: \" + to_limbs(p)\n",
    "\"a: \" + to_limbs(a)"
   ]
  },
  {
   "cell_type": "markdown",
   "metadata": {},
   "source": [
    "## test_add_points_ECC79"
   ]
  },
  {
   "cell_type": "code",
   "execution_count": 3,
   "metadata": {},
   "outputs": [
    {
     "data": {
      "text/plain": [
       "'Px: 0000315d 4b201c20 8475057d'"
      ]
     },
     "execution_count": 3,
     "metadata": {},
     "output_type": "execute_result"
    },
    {
     "data": {
      "text/plain": [
       "'Py: 0000035f 3df5ab37 0252450a'"
      ]
     },
     "execution_count": 3,
     "metadata": {},
     "output_type": "execute_result"
    },
    {
     "data": {
      "text/plain": [
       "'Qx: 00000679 834cefb7 215dc365'"
      ]
     },
     "execution_count": 3,
     "metadata": {},
     "output_type": "execute_result"
    },
    {
     "data": {
      "text/plain": [
       "'Qy: 00004084 bc50388c 4e6fdfab'"
      ]
     },
     "execution_count": 3,
     "metadata": {},
     "output_type": "execute_result"
    },
    {
     "data": {
      "text/plain": [
       "'Rx: 00005a8b 142c9e7d bdd7ca6a'"
      ]
     },
     "execution_count": 3,
     "metadata": {},
     "output_type": "execute_result"
    },
    {
     "data": {
      "text/plain": [
       "'Ry: 000027b6 489dff15 7328d137'"
      ]
     },
     "execution_count": 3,
     "metadata": {},
     "output_type": "execute_result"
    }
   ],
   "source": [
    "\"Px: \" + to_limbs(P[0])\n",
    "\"Py: \" + to_limbs(P[1])\n",
    "\"Qx: \" + to_limbs(Q[0])\n",
    "\"Qy: \" + to_limbs(Q[1])\n",
    "\n",
    "R = P + Q\n",
    "\"Rx: \" + to_limbs(R[0])\n",
    "\"Ry: \" + to_limbs(R[1])"
   ]
  },
  {
   "cell_type": "markdown",
   "metadata": {},
   "source": [
    "## test_add_same_point_ECC79"
   ]
  },
  {
   "cell_type": "code",
   "execution_count": 4,
   "metadata": {},
   "outputs": [
    {
     "data": {
      "text/plain": [
       "'Px: 0000315d 4b201c20 8475057d'"
      ]
     },
     "execution_count": 4,
     "metadata": {},
     "output_type": "execute_result"
    },
    {
     "data": {
      "text/plain": [
       "'Py: 0000035f 3df5ab37 0252450a'"
      ]
     },
     "execution_count": 4,
     "metadata": {},
     "output_type": "execute_result"
    },
    {
     "data": {
      "text/plain": [
       "'Rx: 00004659 3e221adb 47e3e095'"
      ]
     },
     "execution_count": 4,
     "metadata": {},
     "output_type": "execute_result"
    },
    {
     "data": {
      "text/plain": [
       "'Ry: 000059d6 42bee392 0725a4e3'"
      ]
     },
     "execution_count": 4,
     "metadata": {},
     "output_type": "execute_result"
    }
   ],
   "source": [
    "\"Px: \" + to_limbs(P[0])\n",
    "\"Py: \" + to_limbs(P[1])\n",
    "\n",
    "R = P + P\n",
    "\n",
    "\"Rx: \" + to_limbs(R[0])\n",
    "\"Ry: \" + to_limbs(R[1])"
   ]
  },
  {
   "cell_type": "markdown",
   "metadata": {},
   "source": []
  },
  {
   "cell_type": "markdown",
   "metadata": {},
   "source": []
  }
 ],
 "metadata": {
  "kernelspec": {
   "display_name": "SageMath 10.4.beta3",
   "language": "sage",
   "name": "sagemath"
  },
  "language_info": {
   "codemirror_mode": {
    "name": "ipython",
    "version": 3
   },
   "file_extension": ".py",
   "mimetype": "text/x-python",
   "name": "python",
   "nbconvert_exporter": "python",
   "pygments_lexer": "ipython3",
   "version": "3.11.1"
  }
 },
 "nbformat": 4,
 "nbformat_minor": 2
}
